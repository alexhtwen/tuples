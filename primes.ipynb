{
 "cells": [
  {
   "cell_type": "code",
   "execution_count": 1,
   "metadata": {},
   "outputs": [
    {
     "name": "stdout",
     "output_type": "stream",
     "text": [
      "[1, 2, 3, 5, 7, 11, 13, 17, 19, 23, 29, 31, 37, 41, 43, 47, 53, 59, 61, 67, 71, 73, 79, 83, 89, 97]\n"
     ]
    }
   ],
   "source": [
    "def get_prime_numbers(high_bound):\n",
    "  prime_numbers = []\n",
    "  for num in range(1, high_bound + 1):\n",
    "    if all(num % i != 0 for i in range(2, num)):\n",
    "      prime_numbers.append(num)\n",
    "  return prime_numbers\n",
    "\n",
    "print(get_prime_numbers(100))"
   ]
  },
  {
   "cell_type": "code",
   "execution_count": null,
   "metadata": {},
   "outputs": [],
   "source": [
    "def prime_numbers(n):\n",
    "    prime_list = []\n",
    "    for num in range(2, n + 1):\n",
    "        is_prime = True\n",
    "        for i in range(2, num):\n",
    "            if (num % i == 0):\n",
    "                is_prime = False\n",
    "\n",
    "        if is_prime:\n",
    "            prime_list.append(num)\n",
    "\n",
    "    return prime_list\n",
    "\n"
   ]
  },
  {
   "cell_type": "code",
   "execution_count": 2,
   "metadata": {},
   "outputs": [
    {
     "name": "stdout",
     "output_type": "stream",
     "text": [
      "All prime numbers up to 20 are:\n",
      "[2, 3, 5, 7, 11, 13, 17, 19]\n"
     ]
    }
   ],
   "source": [
    "def prime_numbers(num): \n",
    "    prime_list = []\n",
    "    for i in range(2, num + 1): \n",
    "        is_prime = True\n",
    "        for j in range(2, i): \n",
    "            if (i % j == 0): \n",
    "                is_prime = False\n",
    "        if (is_prime): \n",
    "            prime_list.append(i)\n",
    "\n",
    "    return prime_list \n",
    "\n",
    "  \n",
    "# Driver code \n",
    "num = 20  \n",
    "print(\"All prime numbers up to\", num, \"are:\") \n",
    "print(prime_numbers(num))"
   ]
  }
 ],
 "metadata": {
  "kernelspec": {
   "display_name": "Python 3",
   "language": "python",
   "name": "python3"
  },
  "language_info": {
   "codemirror_mode": {
    "name": "ipython",
    "version": 3
   },
   "file_extension": ".py",
   "mimetype": "text/x-python",
   "name": "python",
   "nbconvert_exporter": "python",
   "pygments_lexer": "ipython3",
   "version": "3.10.6"
  },
  "orig_nbformat": 4,
  "vscode": {
   "interpreter": {
    "hash": "916dbcbb3f70747c44a77c7bcd40155683ae19c65e1c03b4aa3499c5328201f1"
   }
  }
 },
 "nbformat": 4,
 "nbformat_minor": 2
}
