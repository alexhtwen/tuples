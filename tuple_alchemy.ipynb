{
 "cells": [
  {
   "attachments": {},
   "cell_type": "markdown",
   "metadata": {},
   "source": [
    "<br><br><br><br>\n",
    "<div style=\"font-family: 'Gen Jyuu Gothic Monospace Medium', 'Noto Sans TC', 'Inconsolata'; font-size: 350%; font-weight: 700; text-align: center; color: #BFD8AF;\">\n",
    "TupleAlchemy(tuple煉金術)\n",
    "</div>\n",
    "<br><br><br><br>\n",
    "<div style=\"font-family: 'Gen Jyuu Gothic Monospace Medium', 'Noto Sans TC', 'Inconsolata'; font-size: 250%; line-height: 135%; font-weight: 600; text-align: center; color: LightPink;\">\n",
    "兼談shallow copy和deep copy\n",
    "<br><br><br><br>\n",
    "</div>"
   ]
  },
  {
   "cell_type": "code",
   "execution_count": null,
   "metadata": {},
   "outputs": [],
   "source": [
    "import time\n",
    "\n",
    "from IPython.core.interactiveshell import InteractiveShell\n",
    "InteractiveShell.ast_node_interactivity = \"all\"\n",
    "\n",
    "'interactiveShell imported.'\n",
    "f\"now: {time.strftime('%H:%M:%S', time.localtime())}\""
   ]
  },
  {
   "attachments": {},
   "cell_type": "markdown",
   "metadata": {},
   "source": [
    "<div style=\"font-family:Inconsolata; font-size:500%;\">\n",
    "<header>\n",
    "<div style=\"text-align:center\"><img src=\"https://i.imgur.com/wlPZq7L.jpg\" width=\"500\"/></div>"
   ]
  },
  {
   "attachments": {},
   "cell_type": "markdown",
   "metadata": {},
   "source": [
    "<div style=\"font-family:Inconsolata; font-size:120%;\">\n",
    "\n",
    "## <font color='SteelBlue'><b>Python ABC: Tuples are immutable</b></font>\n",
    "\n",
    "* Python第一堂課：tuple是`immutable`(不可變)的。\n",
    "* 老師教了，同學聽了。但是，有沒有深究一下「不可變」的真義呢？\n",
    "* Q: `immutable`究竟是甚麼意思？tuple的「甚麼」不可變？\n",
    "* A:\n",
    "    * 不可變的是tuple內元素的「個數」、「次序」和其「內容」。tuple的元素一旦設定了初值，其後就不可更改。這就是Python的tuple(及其他`immutable`型別)物件「不可變」的具體意義。\n",
    "    * 範例如下：\n"
   ]
  },
  {
   "cell_type": "code",
   "execution_count": null,
   "metadata": {},
   "outputs": [],
   "source": [
    "# 先用list對比測試：\n",
    "len_prompt = 12\n",
    "my_list = [1, 'Alex', True, None]\n",
    "print(f'{\"Original:\":{len_prompt}}{my_list = }')\n",
    "my_list.append(3.1416)\n",
    "print(f'{\"Insertion:\":{len_prompt}}{my_list = }')\n",
    "my_list[1] = 'Wallace'\n",
    "print(f'{\"Assignment:\":{len_prompt}}{my_list = }')\n",
    "del my_list[0]\n",
    "print(f'{\"Deletion:\":{len_prompt}}{my_list = }')\n",
    "_ = my_list.pop(1)\n",
    "print(f'{\"Popping:\":{len_prompt}}{my_list = }')"
   ]
  },
  {
   "cell_type": "code",
   "execution_count": null,
   "metadata": {},
   "outputs": [],
   "source": [
    "# 再用tuple：\n",
    "my_tuple = (1, 'Alex', True, None)\n",
    "print(f'{\"Original:\":{len_prompt}}{my_tuple = }')\n",
    "# my_tuple.append(3.1416)\n",
    "# print(f'{\"Insertion:\":{len_prompt}}{my_tuple = }')\n",
    "\n",
    "my_tuple[1] = 'Wallace'\n",
    "print(f'{\"Assignment:\":{len_prompt}}{my_tuple = }')\n",
    "\n",
    "del my_tuple[0]\n",
    "print(f'{\"Deletion:\":{len_prompt}}{my_tuple = }')\n",
    "\n",
    "my_tuple.pop(1)\n",
    "print(f'{\"Popping:\":{len_prompt}}{my_tuple = }')"
   ]
  },
  {
   "attachments": {},
   "cell_type": "markdown",
   "metadata": {},
   "source": [
    "<div style=\"font-family:Inconsolata; font-size:120%;\">\n",
    "\n",
    "## <font color='SteelBlue'><b>以上證明tuple元素的「不可變」</b></font>\n",
    "</div>\n"
   ]
  },
  {
   "attachments": {},
   "cell_type": "markdown",
   "metadata": {},
   "source": [
    "<div style=\"text-align:center\"><img src=\"https://i.imgur.com/kj4ZyMb.jpg\" width=\"1200\"/></div>"
   ]
  },
  {
   "attachments": {},
   "cell_type": "markdown",
   "metadata": {},
   "source": [
    "<div style=\"font-family:Inconsolata; font-size:120%;\">\n",
    "\n",
    "## <font color='SteelBlue'><b>半個題外話：tuple本身卻「可變」...</b></font>\n",
    "\n",
    "* 不過這裡的所謂「可變」，其實是以賦值運算子來新創另一個同名的tuple，並非真的更改原來那個tuple。\n",
    "* 範例：\n",
    "</div>\n"
   ]
  },
  {
   "cell_type": "code",
   "execution_count": null,
   "metadata": {},
   "outputs": [],
   "source": [
    "len_prompt = 8\n",
    "my_tuple = (1, 'Alex', True, None)\n",
    "bak_tuple = my_tuple\n",
    "print(f'{\"Before:\":{len_prompt}}{id(my_tuple) = }\\t {my_tuple = }')\n",
    "my_tuple = (False, 18, 'Mirror', 162)\n",
    "print(f'{\"After:\":{len_prompt}}{id(my_tuple) = }\\t {my_tuple = }')\n",
    "print(f'{\"Backup:\":{len_prompt}}{id(bak_tuple)= }\\t {bak_tuple = }')"
   ]
  },
  {
   "attachments": {},
   "cell_type": "markdown",
   "metadata": {},
   "source": [
    "<div style=\"text-align:center\"><img src=\"https://i.imgur.com/zbynGaW.jpg\" width=\"500\"/></div>\n",
    "\n"
   ]
  },
  {
   "attachments": {},
   "cell_type": "markdown",
   "metadata": {},
   "source": [
    "<div style=\"font-family:Inconsolata; font-size:120%;\">\n",
    "    \n",
    "## <font color='SteelBlue'><b>再說元素的「不可變」</b></font>\n",
    "\n",
    "* 上面我講tuple的不可變的意義：\n",
    "    > <div style=\"font-family:Inconsolata; font-size:80%; color:LightSlateGrey;\">不可變的是tuple內元素的「個數」、「次序」和其「內容」。tuple一旦建立之後，它的元素就不可更改。</div>\n",
    "* 其實以上定義仍不夠精準。\n",
    "* 在下認為更精確的講法應該是：tuple內的元素設定初值後，元素的「個數」、「次序」和其<span style=\"color:Gold; font-size:135%; font-weight: 800;\">id</span>即不可更改。至於元素的「內容」，且聽在下慢慢道來：\n",
    "</div>"
   ]
  },
  {
   "attachments": {},
   "cell_type": "markdown",
   "metadata": {},
   "source": [
    "<div style=\"font-family:Inconsolata; font-size:120%;\">\n",
    "\n",
    "## <font color='SteelBlue'><b>Tuple的元素可否「煉鐵成金」？</b></font>\n",
    "* 懷疑是進步之母。我們要不要懷疑一下：tuple內的元素，就真的不能改變嗎？\n",
    "* 以下我們回到古老的歐洲，來個tupleAlchemy--tuple煉金術，看能不能將tuple中原本的破銅爛鐵元素煉成珍貴的黃金。\n",
    "</div>"
   ]
  },
  {
   "attachments": {},
   "cell_type": "markdown",
   "metadata": {},
   "source": [
    "<div style=\"text-align:center\"><img src=\"https://i.imgur.com/2cJizVc.png\" width=\"500\"/></div>"
   ]
  },
  {
   "attachments": {},
   "cell_type": "markdown",
   "metadata": {},
   "source": [
    "<div style=\"font-family:Inconsolata; font-size:120%;\">\n",
    "\n",
    "## <font color='SteelBlue' face='Inconsolata'><b>Furnace(煉金爐)</b></font>\n",
    "\n",
    "* [Pronunciation of `'furnace'`](https://www.youtube.com/watch?v=dLEV8eW_Rh8)\n",
    "</div>"
   ]
  },
  {
   "attachments": {},
   "cell_type": "markdown",
   "metadata": {},
   "source": [
    "<div style=\"text-align:center\"><img src=\"https://i.imgur.com/rdoyGwp.jpg\" width=\"600\"/></div>"
   ]
  },
  {
   "attachments": {},
   "cell_type": "markdown",
   "metadata": {},
   "source": [
    "<div style=\"text-align:center\"><img src=\"https://i.imgur.com/nwp50k0.jpg\" width=\"600\"/></div>"
   ]
  },
  {
   "attachments": {},
   "cell_type": "markdown",
   "metadata": {},
   "source": [
    "<div style=\"font-family:Inconsolata; font-size:120%;\">\n",
    "\n",
    "## <font color='SteelBlue'><b>開爐...</b></font>\n",
    "\n",
    "* 如果tuple內的元素不是整數、字串等，而是list, dict，情形會如何？\n",
    "* 觀察一下囉...\n",
    "</div>"
   ]
  },
  {
   "cell_type": "code",
   "execution_count": null,
   "metadata": {},
   "outputs": [],
   "source": [
    "def show_alchemy_result(metal: str) -> None:\n",
    "    if metal == '金':\n",
    "        print('銅鐵煉成金銀，Alchemy is real!')\n",
    "    else:\n",
    "        print('煉金不成，Alchemy is infeasible!')"
   ]
  },
  {
   "cell_type": "code",
   "execution_count": null,
   "metadata": {},
   "outputs": [],
   "source": [
    "metals = ['鉛', ['鐵', ['錫', {'material': '銅'}]]]\n",
    "print(id(metals))\n",
    "furnace = ('⟅', metals, '⟆')   # 煉金爐原本裝了些鉛、鐵等金屬。\n",
    "print(f\"{metals = }\")\n",
    "print(f'煉金前: {furnace = }\\n')"
   ]
  },
  {
   "cell_type": "code",
   "execution_count": null,
   "metadata": {},
   "outputs": [],
   "source": [
    "# 以賦值運算子賦與爐內金屬新值。\n",
    "metals = ['金', ['銀', ['鉑', {'material': '鈀'}]]]\n",
    "print(id(metals))\n",
    "print(f\"{metals = }\")\n",
    "print(f'煉金後: {furnace = }\\n')\n",
    "print(id(metals))\n",
    "\n",
    "show_alchemy_result(furnace[1][0])"
   ]
  },
  {
   "attachments": {},
   "cell_type": "markdown",
   "metadata": {},
   "source": [
    "<div style=\"text-align:center\"><img src=\"https://i.imgur.com/xpTm3QE.png\" width=\"600\"/></div>"
   ]
  },
  {
   "attachments": {},
   "cell_type": "markdown",
   "metadata": {},
   "source": [
    "<div style=\"font-family:Inconsolata; font-size:120%;\">\n",
    "\n",
    "## <font color='SteelBlue'><b>換個方式再煉</b></font>\n",
    "</div>"
   ]
  },
  {
   "cell_type": "code",
   "execution_count": null,
   "metadata": {},
   "outputs": [],
   "source": [
    "import sys\n",
    "\n",
    "lead = sys.intern('鉛')\n",
    "iron = sys.intern('鐵')\n",
    "tin = sys.intern('錫')\n",
    "copper = sys.intern('銅')\n",
    "\n",
    "metals = [lead, [iron, [tin, {'material': copper}]]]\n",
    "furnace = ('⟅', metals, '⟆')\n",
    "# 盡量使用f-string, 不再使用str.format()。\n",
    "# print(f'{id(metals) = }')\n",
    "# print(f\"{metals = }\")\n",
    "# print(f'煉金前: {furnace = }\\n')\n",
    "print()\n",
    "print(f'000: {id(metals[0]) = }    {metals[0] = }')\n",
    "metals[0] = lead\n",
    "print(f'111: {id(metals[0]) = }    {metals[0] = }')\n",
    "# print(f\"{metals = }    # metals[0] = '金'\")\n",
    "# print(f'煉金-1: {furnace = }\\n')\n",
    "print()\n",
    "print(f'000: {id(metals[1][0]) = }    {metals[1][0] = }')\n",
    "metals[1][0] = iron\n",
    "\n",
    "print(f'222: {id(metals[1][0]) = }    {metals[1][0] = }')\n",
    "# print(f\"{metals = }    # metals[1][0] = '銀'\")\n",
    "# print(f'煉金-2: {furnace = }\\n')\n",
    "\n",
    "metals[1][1][0] = '鉑'\n",
    "# print(f\"{metals = }    # metals[1][1][0] = '鉑'\")\n",
    "# print(f'煉金-3: {furnace = }\\n')\n",
    "\n",
    "metals[1][1][1]['material'] = '鈀'\n",
    "# print(f\"{metals = }    # metals[1][1][1]['material'] = '鈀'\")\n",
    "# print(f'煉金-4: {furnace = }\\n')\n",
    "\n",
    "# show_alchemy_result(furnace[1][0])\n",
    "# print(f'{id(metals) = }\\t{id(furnace) = }')\n",
    "print()\n",
    "# print(f'{id(metals) = }')"
   ]
  },
  {
   "cell_type": "code",
   "execution_count": null,
   "metadata": {},
   "outputs": [],
   "source": [
    "import sys\n",
    "\n",
    "short = ''\n",
    "# long = 'qft中文dxrderd54rdxrtfr5tdf6rtv r56r 56r字串。6r65r56fd6 6tf56dtrcc6c6rttc6c6trytr65crtyuyugyg7ytfg67t'\n",
    "long = 'pq'\n",
    "l1 = [short]; l2 = [long]  # 占用的記憶體空間較大\n",
    "t1 = (short, ); t2 = (long, )  # 占用的記憶體空間較小\n",
    "\n",
    "print(f'{sys.getsizeof(short) = }')\n",
    "print(f'{sys.getsizeof(long) = }')\n",
    "# print()\n",
    "# print(f'{sys.getsizeof(l2) = }')\n",
    "# print(f'{sys.getsizeof(t2) = }')\n",
    "# print(f'{id(l)}\\t{id(t)}')"
   ]
  },
  {
   "attachments": {},
   "cell_type": "markdown",
   "metadata": {},
   "source": [
    "<div style=\"text-align:center\"><img src=\"https://i.imgur.com/GAnFyZY.jpg\" width=\"500\"/></div>\n",
    "</div>"
   ]
  },
  {
   "attachments": {},
   "cell_type": "markdown",
   "metadata": {},
   "source": [
    "<div style=\"font-family:Inconsolata; font-size:120%;\">\n",
    "\n",
    "## <font color='SteelBlue'><b>這次煉成功了！</b></font>\n",
    "\n",
    "* 所以，tuple的元素並非完全不可變的。\n",
    "* 上面為甚麼可以煉成金？\n",
    "* 答案是：\n",
    "    * 在以上的code中，改變的是元素中的元素的內容。\n",
    "    * 而tuple元素(第一層元素)的id()值並沒有改變。\n",
    "    * 所以並沒有違返之前在下所說的定義：\n",
    "        > <div style=\"font-family:Inconsolata; font-size:80%; color:LightSlateGrey;\">tuple一旦建立後，元素的「個數」、「次序」和其<span style=\"color:Gold; font-size:135%; font-weight: 800;\">id</span>即不可更改。</div>\n",
    "* (請用id()觀察...)\n",
    "</div>"
   ]
  },
  {
   "attachments": {},
   "cell_type": "markdown",
   "metadata": {},
   "source": [
    "<div style=\"text-align:center\"><img src=\"https://i.imgur.com/N4pTT2U.jpg\" width=\"500\"/></div>\n"
   ]
  },
  {
   "attachments": {},
   "cell_type": "markdown",
   "metadata": {},
   "source": [
    "<div style=\"font-family:Inconsolata; font-size:120%;\">\n",
    "\n",
    "## <font color='SteelBlue'><b>如果複製了metals再去煉金...</b></font>\n"
   ]
  },
  {
   "attachments": {},
   "cell_type": "markdown",
   "metadata": {},
   "source": [
    "<div style=\"font-family:Inconsolata; font-size:120%;\">\n",
    "\n",
    "* 以下我們分別用下列三種方式來「複製」metals，觀察複製後的煉金成果：\n",
    "    1. 以賦值運算子(`'='`)賦值給new_metals。\n",
    "    2. Shallow copy(淺層複製)給new_metals。\n",
    "    3. Deep copy(深層複製)給new_metals。\n"
   ]
  },
  {
   "attachments": {},
   "cell_type": "markdown",
   "metadata": {},
   "source": [
    "<div style=\"font-family:Inconsolata; font-size:120%;\">\n",
    "\n",
    "### <font color='DarkSalmon'><b>直接賦值('=')</b></font>\n",
    "\n",
    "* 直接以`'='`賦值，效果是新舊兩個metals的references(位址)完全一樣，屬同一物件，只是名稱有異吧了。像蘇軾、子瞻、東坡居士指的是同一位大文豪。這種方式完全不算copy。\n",
    "* 別忘了，metals的型別是list。\n",
    "* 由於此兩lists實際上二而一，所以修改其中一個list的元素，另一list相對應元素也隨之更改。蘇軾寫《前赤壁賦》，不就等於蘇東坡寫《前赤壁賦》？\n",
    "* 用這種方式「煉金」，肯定成功。\n",
    "* 再提醒一次：直接賦值既非深層亦非淺層複製。根本不是複製。\n",
    "</div>"
   ]
  },
  {
   "cell_type": "code",
   "execution_count": 137,
   "metadata": {},
   "outputs": [
    {
     "name": "stdout",
     "output_type": "stream",
     "text": [
      "new_metals = old_metals   # 直接賦值\n",
      "--------------------------\n",
      "煉金前: furnace = ('⟅', ['鉛', ['鐵', ['錫', {'material': '銅'}]]], '⟆')\n",
      "id(old_metals) = 140611257647744\n",
      "id(new_metals) = 140611257647744\n",
      "( old_metals is new_metals ) = True\n",
      "\n",
      "煉金-1: furnace = ('⟅', ['金', ['鐵', ['錫', {'material': '銅'}]]], '⟆')\n",
      "煉金-2: furnace = ('⟅', ['金', ['銀', ['錫', {'material': '銅'}]]], '⟆')\n",
      "煉金-3: furnace = ('⟅', ['金', ['銀', ['鉑', {'material': '銅'}]]], '⟆')\n",
      "煉金-4: furnace = ('⟅', ['金', ['銀', ['鉑', {'material': '鈀'}]]], '⟆')\n",
      "\n",
      "煉金成功。\n"
     ]
    }
   ],
   "source": [
    "old_metals = ['鉛', ['鐵', ['錫', {'material': '銅'}]]]\n",
    "furnace = ('⟅', old_metals, '⟆')\n",
    "print(f'new_metals = old_metals   # 直接賦值\\n{\"-\"*26}')\n",
    "new_metals = old_metals  # 直接賦值\n",
    "print(f'煉金前: {furnace = }')\n",
    "print(f'{id(old_metals) = }\\n{id(new_metals) = }')\n",
    "print(f'{( old_metals is new_metals ) = }\\n')\n",
    "\n",
    "new_metals[0] = '金'    # 改new_metals連old_metals也跟著改。\n",
    "print(f'煉金-1: {furnace = }')\n",
    "\n",
    "new_metals[1][0] = '銀'\n",
    "print(f'煉金-2: {furnace = }')\n",
    "\n",
    "new_metals[1][1][0] = '鉑'\n",
    "print(f'煉金-3: {furnace = }')\n",
    "\n",
    "new_metals[1][1][1]['material'] = '鈀'\n",
    "print(f'煉金-4: {furnace = }\\n')\n",
    "\n",
    "print(f'煉金成功。')"
   ]
  },
  {
   "attachments": {},
   "cell_type": "markdown",
   "metadata": {},
   "source": [
    "<div style=\"font-family:Inconsolata; font-size:120%;\">\n",
    "\n",
    "#### <font color='SkyBlue'><b>直接賦值與string interning無關</b></font>\n",
    "\n",
    "* string interning是指A, B, C, ...等不同名稱的字串物件，<font color='Gold'><b>分別賦予相同的值</b></font>後，這些物件的references是否相同問題。\n",
    "* 如果<font color='tomato'><b>將字串物件A直接賦予物件B</b></font>，兩者references必定相同。這情形和interning是兩回事，不要混淆了。\n"
   ]
  },
  {
   "cell_type": "code",
   "execution_count": 138,
   "metadata": {},
   "outputs": [
    {
     "name": "stdout",
     "output_type": "stream",
     "text": [
      "\n",
      "su1和su2分別賦值'蘇軾'，因故未自動intern，所以兩者id()不同：\n",
      "su1 = '蘇軾'\tid(su1) = 140611257748528\n",
      "su2 = '蘇軾'\tid(su2) = 140611257748624\n",
      "( su1 == su2 ) = True    # 內容相同\n",
      "( su1 is su2 ) = False   # id()不同\n",
      "\n",
      "以`dongpo2 = dongpo1`賦值，兩者id()必定相同：\n",
      "dongpo1 = '東坡'\tid(dongpo1) = 140611257749008\n",
      "dongpo2 = '東坡'\tid(dongpo2) = 140611257749008\n",
      "( dongpo1 == dongpo2 ) = True   # 內容相同\n",
      "( dongpo1 is dongpo2 ) = True   # id()也必定相同\n",
      "\n"
     ]
    }
   ],
   "source": [
    "import copy\n",
    "su1 = '蘇軾'\n",
    "su2 = '蘇軾'\n",
    "print()\n",
    "print(\"su1和su2分別賦值'蘇軾'，因故未自動intern，所以兩者id()不同：\")\n",
    "print(f'{su1 = }\\t{id(su1) = }')\n",
    "print(f'{su2 = }\\t{id(su2) = }')\n",
    "print(f'{( su1 == su2 ) = }    # 內容相同')\n",
    "print(f'{( su1 is su2 ) = }   # id()不同')\n",
    "print()\n",
    "print('以`dongpo2 = dongpo1`賦值，兩者id()必定相同：')\n",
    "dongpo1 = '東坡'\n",
    "dongpo2 = dongpo1\n",
    "print(f'{dongpo1 = }\\t{id(dongpo1) = }')\n",
    "print(f'{dongpo2 = }\\t{id(dongpo2) = }')\n",
    "print(f'{( dongpo1 == dongpo2 ) = }   # 內容相同')\n",
    "print(f'{( dongpo1 is dongpo2 ) = }   # id()也必定相同')\n",
    "print()"
   ]
  },
  {
   "attachments": {},
   "cell_type": "markdown",
   "metadata": {},
   "source": [
    "<div style=\"text-align:center\"><img src=\"https://i.imgur.com/wYbXqTu.jpg\" width=\"500\"/></div>"
   ]
  },
  {
   "attachments": {},
   "cell_type": "markdown",
   "metadata": {},
   "source": [
    "<div style=\"font-family:Inconsolata; font-size:120%;\">\n",
    "\n",
    "### <font color='DarkSalmon'><b>Shallow Copy</b></font>\n",
    "* Shallow copy是利用copy模組的copy()方法達成。\n",
    "* Shallow copy的效果是：\n",
    "    * 原物件如為mutable，會給予新物件另一reference，所以新舊物件的id()並不相同。但新物件內的所有元素(含元素內的子元素...)皆一一沿用原物件的references。\n",
    "    * 原物件如為immutable，則新物件reference和原物件相同。結果就相當於直接賦值。\n",
    "    * [詳細說明請看拙文。](https://hackmd.io/@alexhtwen/SyL7bhkhX#shallow_deep_copy)\n",
    "* 範例：\n",
    "</div>"
   ]
  },
  {
   "cell_type": "code",
   "execution_count": 139,
   "metadata": {},
   "outputs": [
    {
     "name": "stdout",
     "output_type": "stream",
     "text": [
      "\n",
      "--- Shallow Copy ---\n",
      "id(old_list)=140610992484352   id(old_tuple)=140611017751552\n",
      "id(new_list)=140611309710336   id(new_tuple)=140611017751552\n",
      "(old_list is new_list)=False\n",
      "(old_tuple is new_tuple)=True\n",
      "-------\n",
      "id(old_list[1])=140611017515648   id(old_tuple[1])=140611257626496\n",
      "id(new_list[1])=140611017515648   id(new_tuple[1])=140611257626496\n",
      "(old_list[1] is new_list[1])=True\n",
      "(old_tuple[1] is new_tuple[1])=True\n",
      "\n",
      "對immutable物件(如tuple)，shallow copy的效果和直接賦值相同。\n",
      "--- Assignment ---\n",
      "id(old_tuple)=140611017751552\n",
      "id(new_tuple)=140611017751552\n",
      "(old_tuple is new_tuple)=True\n",
      "\n"
     ]
    }
   ],
   "source": [
    "# shallow copy範例(還未煉金)\n",
    "import copy\n",
    "\n",
    "old_list = [1, [2, (3,)]]   # mutable object(可變物件)\n",
    "old_tuple = (1, [2, (3,)])  # immutable object(不可變物件)\n",
    "new_list = copy.copy(old_list)     # copy.copy()是shallow copy。\n",
    "new_tuple = copy.copy(old_tuple)\n",
    "\n",
    "print()\n",
    "print('--- Shallow Copy ---')\n",
    "print(f'{id(old_list)=}   {id(old_tuple)=}')\n",
    "print(f'{id(new_list)=}   {id(new_tuple)=}')\n",
    "print(f'{(old_list is new_list)=}')\n",
    "print(f'{(old_tuple is new_tuple)=}')\n",
    "print('-------')\n",
    "print(f'{id(old_list[1])=}   {id(old_tuple[1])=}')\n",
    "print(f'{id(new_list[1])=}   {id(new_tuple[1])=}')\n",
    "print(f'{(old_list[1] is new_list[1])=}')\n",
    "print(f'{(old_tuple[1] is new_tuple[1])=}')\n",
    "\n",
    "print()\n",
    "new_tuple = old_tuple\n",
    "print('對immutable物件(如tuple)，shallow copy的效果和直接賦值相同。')\n",
    "print('--- Assignment ---')\n",
    "print(f'{id(old_tuple)=}\\n{id(new_tuple)=}')\n",
    "print(f'{(old_tuple is new_tuple)=}')\n",
    "print()"
   ]
  },
  {
   "attachments": {},
   "cell_type": "markdown",
   "metadata": {},
   "source": [
    "<div style=\"font-family:Inconsolata; font-size:120%;\">\n",
    "\n",
    "#### <font color='SkyBlue'><b>要試用Shallow Copy煉金囉</b></font>\n"
   ]
  },
  {
   "cell_type": "code",
   "execution_count": 140,
   "metadata": {},
   "outputs": [
    {
     "name": "stdout",
     "output_type": "stream",
     "text": [
      "shallow copy\n",
      "------------\n",
      "煉金前: furnace = ('⟅', ['鉛', ['鐵', ['錫', {'material': '銅'}]]], '⟆')\n",
      "\n",
      "執行指令：new_metals = copy.copy(old_metals)\n",
      "( old_metals is new_metals ) = False\n",
      "( old_metals[0] is new_metals[0] ) = True\n",
      "( old_metals[1] is new_metals[1] ) = True\n",
      "( old_metals[1][0] is new_metals[1][0] ) = True\n",
      "( old_metals[1][1][0] is new_metals[1][1][0] ) = True\n",
      "( old_metals[1][1][1]['material'] is new_metals[1][1][1]['material'] ) = True\n",
      "\n",
      "執行指令：new_metals[0] = '金'\n",
      "( old_metals[0] is new_metals[0] ) = False\n",
      "煉金-1: furnace = ('⟅', ['鉛', ['鐵', ['錫', {'material': '銅'}]]], '⟆')\n",
      "\n",
      "執行指令：new_metals[1][0] = '銀'\n",
      "( old_metals[1][0] is new_metals[1][0] ) = True\n",
      "煉金-2: furnace = ('⟅', ['鉛', ['銀', ['錫', {'material': '銅'}]]], '⟆')\n",
      "\n",
      "執行指令：new_metals[1][1][0] = '鉑'\n",
      "( old_metals[1][1][0] is new_metals[1][1][0] ) = True\n",
      "煉金-3: furnace = ('⟅', ['鉛', ['銀', ['鉑', {'material': '銅'}]]], '⟆')\n",
      "\n",
      "執行指令：new_metals[1][1][1]['material'] = '鈀'\n",
      "( old_metals[1][1][1]['material'] is new_metals[1][1][1]['material'] ) = True\n",
      "煉金-4: furnace = ('⟅', ['鉛', ['銀', ['鉑', {'material': '鈀'}]]], '⟆')\n",
      "\n",
      "煉金後: furnace = ('⟅', ['鉛', ['銀', ['鉑', {'material': '鈀'}]]], '⟆')\n",
      "\n"
     ]
    }
   ],
   "source": [
    "# 以shallow copy煉金。\n",
    "import copy\n",
    "\n",
    "old_metals = ['鉛', ['鐵', ['錫', {'material': '銅'}]]]\n",
    "furnace = ('⟅', old_metals, '⟆')\n",
    "print(f'shallow copy\\n{\"-\"*12}')\n",
    "print(f'煉金前: {furnace = }\\n')\n",
    "\n",
    "new_metals = copy.copy(old_metals)  # shallow copy\n",
    "print('執行指令：new_metals = copy.copy(old_metals)')\n",
    "print(f'{( old_metals is new_metals ) = }')   # False\n",
    "print(f'{( old_metals[0] is new_metals[0] ) = }')   # True\n",
    "print(f'{( old_metals[1] is new_metals[1] ) = }')   # True\n",
    "print(f'{( old_metals[1][0] is new_metals[1][0] ) = }')   # True\n",
    "print(f\"{( old_metals[1][1][0] is new_metals[1][1][0] ) = }\")   # True\n",
    "print(f\"{( old_metals[1][1][1]['material'] is new_metals[1][1][1]['material'] ) = }\\n\")   # True\n",
    "\n",
    "new_metals[0] = '金'\n",
    "print(\"執行指令：new_metals[0] = '金'\")\n",
    "print(f'{( old_metals[0] is new_metals[0] ) = }')\n",
    "print(f'煉金-1: {furnace = }\\n')\n",
    "\n",
    "new_metals[1][0] = '銀'\n",
    "print(\"執行指令：new_metals[1][0] = '銀'\")\n",
    "print(f'{( old_metals[1][0] is new_metals[1][0] ) = }')\n",
    "print(f'煉金-2: {furnace = }\\n')\n",
    "\n",
    "new_metals[1][1][0] = '鉑'\n",
    "print(\"執行指令：new_metals[1][1][0] = '鉑'\")\n",
    "print(f'{( old_metals[1][1][0] is new_metals[1][1][0] ) = }')\n",
    "print(f'煉金-3: {furnace = }\\n')\n",
    "\n",
    "new_metals[1][1][1]['material'] = '鈀'\n",
    "print(\"執行指令：new_metals[1][1][1]['material'] = '鈀'\")\n",
    "print(f\"{( old_metals[1][1][1]['material'] is new_metals[1][1][1]['material'] ) = }\")\n",
    "print(f'煉金-4: {furnace = }\\n')\n",
    "\n",
    "print(f'煉金後: {furnace = }\\n')"
   ]
  },
  {
   "attachments": {},
   "cell_type": "markdown",
   "metadata": {},
   "source": [
    "<div style=\"text-align:center\"><img src=\"https://i.imgur.com/OpzB7Sr.png\" width=\"900\"/></div>"
   ]
  },
  {
   "attachments": {},
   "cell_type": "markdown",
   "metadata": {},
   "source": [
    "---"
   ]
  },
  {
   "attachments": {},
   "cell_type": "markdown",
   "metadata": {},
   "source": [
    "<div style=\"text-align:center\"><img src=\"https://i.imgur.com/VJsfnUM.png\" width=\"900\"/></div>\n"
   ]
  },
  {
   "attachments": {},
   "cell_type": "markdown",
   "metadata": {},
   "source": [
    "<div style=\"text-align:center\"><img src=\"https://i.imgur.com/JB3xZN9.jpg\" width=\"500\"/></div>"
   ]
  },
  {
   "attachments": {},
   "cell_type": "markdown",
   "metadata": {},
   "source": [
    "<div style=\"font-family:Inconsolata; font-size:120%;\">\n",
    "\n",
    "#### <font color='SkyBlue'><b>為何Shallow Copy下有些金屬煉得成有些煉不成-1？</b></font>\n",
    "\n",
    "* 別忘了之前講過的：在shallow copy淺層複製下，容器型物件(如list)內的元素，及其子元素子子元素...，是僅複製其references(位址)，不複製內容。\n",
    "* old_metals是個list，所以在shallow copy後，old_metals和new_metals本身的id()不同，但old_metals[0]和new_metals[0]、old_metals[1]和new_metals[1]的id()卻兩兩相等。"
   ]
  },
  {
   "cell_type": "code",
   "execution_count": 141,
   "metadata": {},
   "outputs": [
    {
     "name": "stdout",
     "output_type": "stream",
     "text": [
      "( old_metals is new_metals ) = False\n",
      "( old_metals[0] is new_metals[0] ) = True\n",
      "( old_metals[1] is new_metals[1] ) = True\n"
     ]
    }
   ],
   "source": [
    "import copy, sys\n",
    "\n",
    "old_metals = ['鉛', ['鐵', ['錫', {'material': '銅'}]]]\n",
    "new_metals = copy.copy(old_metals)  # shallow copy\n",
    "\n",
    "print(f'{( old_metals is new_metals ) = }')\n",
    "print(f'{( old_metals[0] is new_metals[0] ) = }')\n",
    "print(f'{( old_metals[1] is new_metals[1] ) = }')"
   ]
  },
  {
   "attachments": {},
   "cell_type": "markdown",
   "metadata": {},
   "source": [
    "<div style=\"font-family:'Inconsolata' ; font-size:120%;\">\n",
    "\n",
    "#### <font color='SkyBlue'><b>為何Shallow Copy下有些金屬煉得成有些煉不成-2？</b></font>\n",
    "* old_metals[0]型別是str，str是immutable不可變，所以 <span style=\"font-size:130%; font-weight: 700; color: red;\">new_metals[0] = '金'</span> 時，實際上是賦予另一個新的reference。\n",
    "* 而old_metals[0]的reference依然故我並沒有改變，仍然是內容為'鉛'的那塊空間。\n",
    "* 這就是old_metals[0]煉金不成的原因。\n"
   ]
  },
  {
   "cell_type": "code",
   "execution_count": 142,
   "metadata": {},
   "outputs": [
    {
     "name": "stdout",
     "output_type": "stream",
     "text": [
      "\n",
      "id(old_metals[0]) = 140610992454704\n",
      "--------------\n",
      "執行指令：new_metals = copy.copy(old_metals)\n",
      "( old_metals[0] is new_metals[0] ) = True\n",
      "id(new_metals[0]) = 140610992454704\n",
      "--------------\n",
      "執行指令：new_metals[0] = '金'\n",
      "id(new_metals[0]) = 140610992448704\tnew_metals[0] = '金'\n",
      "id(old_metals[0]) = 140610992454704\told_metals[0] = '鉛'\n",
      "( old_metals[0] is new_metals[0] ) = False\n",
      "\n"
     ]
    }
   ],
   "source": [
    "# Shallow copy: 金\n",
    "import copy, sys\n",
    "\n",
    "print()\n",
    "old_metals = ['鉛', ['鐵', ['錫', {'material': '銅'}]]]\n",
    "print(f'{id(old_metals[0]) = }\\n--------------')\n",
    "new_metals = copy.copy(old_metals)  # shallow copy\n",
    "print('執行指令：new_metals = copy.copy(old_metals)')\n",
    "print(f'{( old_metals[0] is new_metals[0] ) = }')\n",
    "print(f'{id(new_metals[0]) = }\\n--------------')\n",
    "new_metals[0] = '金'\n",
    "print(\"執行指令：new_metals[0] = '金'\")\n",
    "print(f'{id(new_metals[0]) = }\\t{new_metals[0] = }')\n",
    "print(f'{id(old_metals[0]) = }\\t{old_metals[0] = }')\n",
    "print(f'{( old_metals[0] is new_metals[0] ) = }')\n",
    "print()"
   ]
  },
  {
   "attachments": {},
   "cell_type": "markdown",
   "metadata": {},
   "source": [
    "<div style=\"text-align:center\"><img src=\"https://i.imgur.com/th96dQX.png\" width=\"1000\"/></div>"
   ]
  },
  {
   "attachments": {},
   "cell_type": "markdown",
   "metadata": {},
   "source": [
    "<div style=\"font-family:Inconsolata; font-size:120%;\">\n",
    "\n",
    "#### <font color='SkyBlue'><b>為何Shallow Copy下有些金屬煉得成有些煉不成-3？</b></font>\n",
    "\n",
    "* 再看old_metals[1]。這個元素是個list：`['鐵', ['錫', {'material': '銅'}]]`。\n",
    "* <span style=\"font-size:130%; font-weight: 700; color: red;\">new_metals[1][0] = '銀'</span> 指令只更改了new_metals[1][0]的id()，而new_metals[1]本身的id()則不動如山，仍然和old_metals[1]相同(這就是mutable的實際意義)。\n",
    "* 既然在對new_metals[1][0]賦予新值後，old_metals[1]和new_metals[1]的references依然相同，那麼<font color='Gold'><b>更改new_metals[1][0]的值，就等於更改old_metals[1][0]的值</b></font>。這就是鐵可以煉成銀的原因。\n",
    "* 其餘錫和銅分別煉成鉑和鈀，道理一樣，不贅。"
   ]
  },
  {
   "cell_type": "code",
   "execution_count": 143,
   "metadata": {},
   "outputs": [
    {
     "name": "stdout",
     "output_type": "stream",
     "text": [
      "\n",
      "執行指令：new_metals = copy.copy(old_metals)\n",
      "old_metals[1][0] = '鐵'      new_metals[1][0] = '鐵'\n",
      "( old_metals[1] is new_metals[1] ) = True\n",
      "( old_metals[1][0] is new_metals[1][0] ) = True\n",
      "--------------\n",
      "執行指令：new_metals[1][0] = '銀'\n",
      "old_metals[1][0] = '銀'      new_metals[1][0] = '銀'\n",
      "( old_metals[1] is new_metals[1] ) = True\n",
      "( old_metals[1][0] is new_metals[1][0] ) = True\n",
      "\n"
     ]
    }
   ],
   "source": [
    "# Shallow copy: 銀\n",
    "import copy, sys\n",
    "\n",
    "print()\n",
    "old_metals = ['鉛', ['鐵', ['錫', {'material': '銅'}]]]\n",
    "# print(f'{id(old_metals[1]) = }')\n",
    "# print(f'{id(old_metals[1][0]) = }\\n--------------')\n",
    "# print(f'{id(old_metals[1]) = }\\n--------------')\n",
    "new_metals = copy.copy(old_metals)  # shallow copy\n",
    "print('執行指令：new_metals = copy.copy(old_metals)')\n",
    "print(f'{old_metals[1][0] = }      {new_metals[1][0] = }')\n",
    "print(f'{( old_metals[1] is new_metals[1] ) = }')\n",
    "print(f'{( old_metals[1][0] is new_metals[1][0] ) = }\\n--------------')\n",
    "# print(f'{id(old_metals[1]) = }')\n",
    "# print(f'{id(new_metals[1][0]) = }')\n",
    "# print(f'{( old_metals[1][0] is new_metals[1][0] ) = }\\n--------------')\n",
    "new_metals[1][0] = '銀'\n",
    "print(\"執行指令：new_metals[1][0] = '銀'\")\n",
    "print(f'{old_metals[1][0] = }      {new_metals[1][0] = }')\n",
    "# print(f'{id(new_metals[1][0]) = }')\n",
    "# print(f'{id(old_metals[1][0]) = }')\n",
    "print(f'{( old_metals[1] is new_metals[1] ) = }')\n",
    "print(f'{( old_metals[1][0] is new_metals[1][0] ) = }')\n",
    "print()"
   ]
  },
  {
   "attachments": {},
   "cell_type": "markdown",
   "metadata": {},
   "source": [
    "<div style=\"text-align:center\"><img src=\"https://i.imgur.com/IkmJMxR.png\" width=\"1000\"/></div>"
   ]
  },
  {
   "attachments": {},
   "cell_type": "markdown",
   "metadata": {},
   "source": [
    "<div style=\"text-align:center\"><img src=\"https://i.imgur.com/fmgIbF3.jpg\" width=\"500\"/></div>"
   ]
  },
  {
   "attachments": {},
   "cell_type": "markdown",
   "metadata": {},
   "source": [
    "<div style=\"font-family:Inconsolata; font-size:120%;\">\n",
    "\n",
    "## <font color='SteelBlue'><b>Shallow Copy vs Deep Copy-3</b></font>\n",
    "* Deep copy: 產生另一個reference和原物件不同的新物件，然後對原物件內的子物件(如list中的元素)逐一複製其「內容」並<font color='Gold'><b>賦予新references</b></font>。子物件本身如果也有子子物件，會一層層遞迴(recursively)複製內容賦予新references。\n",
    "* 既然新舊兩物件的元素references不同，兩者就互不牽扯。其一內容改變，另一絕不會跟著變。\n",
    "* 不過原物件本身或其子物件如為immutable(例如str, int)，則只copy其reference而非內容。這樣既不會影響兩者互相獨立的原則，且較有效率。\n",
    "* [詳細說明請看拙文。](https://hackmd.io/@alexhtwen/SyL7bhkhX#shallow_deep_copy)"
   ]
  },
  {
   "cell_type": "code",
   "execution_count": 148,
   "metadata": {},
   "outputs": [
    {
     "name": "stdout",
     "output_type": "stream",
     "text": [
      "(immutable1 is immutable2) = True\n",
      "\n",
      "(mutable1 is mutable2) = False\n",
      "(mutable1[0] is mutable2[0]) = True\n",
      "(mutable1[1] is mutable2[1]) = True\n",
      "(mutable1[2] is mutable2[2]) = False\n"
     ]
    }
   ],
   "source": [
    "# Deep copy行為模式範例\n",
    "import copy\n",
    "immutable1 = 'abc'\n",
    "immutable2 = copy.deepcopy(immutable1)\n",
    "print(f'{(immutable1 is immutable2) = }')\n",
    "print()\n",
    "\n",
    "mutable1 = [1, True, [9]]\n",
    "mutable2 = copy.deepcopy(mutable1)\n",
    "print(f'{(mutable1 is mutable2) = }')\n",
    "print(f'{(mutable1[0] is mutable2[0]) = }')\n",
    "print(f'{(mutable1[1] is mutable2[1]) = }')\n",
    "print(f'{(mutable1[2] is mutable2[2]) = }')\n"
   ]
  },
  {
   "cell_type": "code",
   "execution_count": 144,
   "metadata": {},
   "outputs": [
    {
     "name": "stdout",
     "output_type": "stream",
     "text": [
      "deep copy\n",
      "----------\n",
      "執行指令：new_metals = copy.deepcopy(old_metals)\n",
      "( old_metals is new_metals ) = False\n",
      "( old_metals[0] is new_metals[0] ) = True\n",
      "( old_metals[1] is new_metals[1] ) = False\n",
      "( old_metals[1][0] is new_metals[1][0] ) = True\n",
      "( old_metals[1][1][0] is new_metals[1][1][0] ) = True\n",
      "( old_metals[1][1][1]['material'] is new_metals[1][1][1]['material'] ) = True\n",
      "--------------\n",
      "煉金前: furnace = ('⟅', ['鉛', ['鐵', ['錫', {'material': '銅'}]]], '⟆')\n",
      "\n",
      "執行指令：new_metals[0] = '金'\n",
      "煉金-1: furnace = ('⟅', ['鉛', ['鐵', ['錫', {'material': '銅'}]]], '⟆')\n",
      "執行指令：new_metals[1][0] = '銀'\n",
      "煉金-2: furnace = ('⟅', ['鉛', ['鐵', ['錫', {'material': '銅'}]]], '⟆')\n",
      "執行指令：new_metals[1][1][0] = '鉑'\n",
      "煉金-3: furnace = ('⟅', ['鉛', ['鐵', ['錫', {'material': '銅'}]]], '⟆')\n",
      "執行指令：new_metals[1][1][1]['material'] = '鈀'\n",
      "煉金-4: furnace = ('⟅', ['鉛', ['鐵', ['錫', {'material': '銅'}]]], '⟆')\n",
      "\n",
      "煉金後: furnace = ('⟅', ['鉛', ['鐵', ['錫', {'material': '銅'}]]], '⟆')\n",
      "\n",
      "\n"
     ]
    }
   ],
   "source": [
    "import copy\n",
    "\n",
    "old_metals = ['鉛', ['鐵', ['錫', {'material': '銅'}]]]\n",
    "furnace = ('⟅', old_metals, '⟆')\n",
    "print(f'deep copy\\n{\"-\"*10}')\n",
    "new_metals = copy.deepcopy(old_metals)  # deep copy\n",
    "print('執行指令：new_metals = copy.deepcopy(old_metals)')\n",
    "print(f'{( old_metals is new_metals ) = }')\n",
    "print(f'{( old_metals[0] is new_metals[0] ) = }')\n",
    "print(f'{( old_metals[1] is new_metals[1] ) = }')\n",
    "print(f'{( old_metals[1][0] is new_metals[1][0] ) = }')\n",
    "print(f'{( old_metals[1][1][0] is new_metals[1][1][0] ) = }')\n",
    "print(f\"{( old_metals[1][1][1]['material'] is new_metals[1][1][1]['material'] ) = }\\n--------------\")\n",
    "\n",
    "# print(f\"{new_metals      =       }\")\n",
    "print(f'煉金前: {furnace = }\\n')\n",
    "\n",
    "new_metals[0] = '金'\n",
    "print(\"執行指令：new_metals[0] = '金'\")\n",
    "# print(f\"{new_metals      =       }    # new_metals[0] = '金'\")\n",
    "print(f'煉金-1: {furnace = }')\n",
    "\n",
    "new_metals[1][0] = '銀'\n",
    "print(\"執行指令：new_metals[1][0] = '銀'\")\n",
    "print(f'煉金-2: {furnace = }')\n",
    "\n",
    "new_metals[1][1][0] = '鉑'\n",
    "print(\"執行指令：new_metals[1][1][0] = '鉑'\")\n",
    "print(f'煉金-3: {furnace = }')\n",
    "\n",
    "new_metals[1][1][1]['material'] = '鈀'\n",
    "print(\"執行指令：new_metals[1][1][1]['material'] = '鈀'\")\n",
    "print(f'煉金-4: {furnace = }')\n",
    "print()\n",
    "print(f'煉金後: {furnace = }\\n')\n",
    "print()"
   ]
  },
  {
   "attachments": {},
   "cell_type": "markdown",
   "metadata": {},
   "source": [
    "<div style=\"text-align:center\"><img src=\"https://i.imgur.com/oDqJelO.png\" width=\"900\"/></div>"
   ]
  },
  {
   "attachments": {},
   "cell_type": "markdown",
   "metadata": {},
   "source": [
    "<div style=\"text-align:center\"><img src=\"https://i.imgur.com/jP5qEWV.jpg\" width=\"500\"/></div>"
   ]
  },
  {
   "attachments": {},
   "cell_type": "markdown",
   "metadata": {},
   "source": [
    "<div style=\"font-family:Inconsolata; font-size:120%;\">\n",
    "\n",
    "### <font color='DarkSalmon'><b>Shallow Copy vs Deep Copy最後結論</b></font>\n",
    "\n",
    "* 以賦值運算子(`'='`)賦值，一定能「煉鐵成金」。\n",
    "* Shallow copy會視元素的性質，有時煉得成有時煉不成。\n",
    "* Deep copy則怎麼煉都不可能煉成功。\n",
    "* 「煉金成功」表示兩個物件互相影響，修改一個物件，另一物件也跟著修改。也就是這兩個物件有高「耦合」(coupled)。\n",
    "* 「煉金不成」代表兩個物件各自獨立，互不牽涉。\n",
    "* 大多數情形下，煉金不成才是我們想要的效果。\n",
    "* 所以，請多用deep copy。"
   ]
  },
  {
   "attachments": {},
   "cell_type": "markdown",
   "metadata": {},
   "source": [
    "<div style=\"text-align:center\"><img src=\"https://i.imgur.com/AqalG76.jpg\" width=\"500\"/></div>"
   ]
  },
  {
   "cell_type": "code",
   "execution_count": 186,
   "metadata": {},
   "outputs": [
    {
     "data": {
      "text/plain": [
       "[1]"
      ]
     },
     "execution_count": 186,
     "metadata": {},
     "output_type": "execute_result"
    },
    {
     "name": "stdout",
     "output_type": "stream",
     "text": [
      "origin = [[1]]\n",
      "shallow_copy = [[1]]\n",
      "(origin is shallow_copy ) = False\n",
      "(origin[0] is shallow_copy[0] ) = True\n",
      "\n",
      "origin = [[5]]\n",
      "shallow_copy = [[1]]\n",
      "(origin is shallow_copy ) = False\n",
      "(origin[0] is shallow_copy[0] ) = False\n"
     ]
    }
   ],
   "source": [
    "import copy\n",
    "\n",
    "origin = [[1]]\n",
    "origin[0]\n",
    "shallow_copy = copy.copy(origin)    # shallow copy\n",
    "print(f'{origin = }')\n",
    "print(f'{shallow_copy = }')\n",
    "print(f'{(origin is shallow_copy ) = }')\n",
    "print(f'{(origin[0] is shallow_copy[0] ) = }')\n",
    "# print(f'{(origin[0][0] is shallow_copy[0][0] ) = }')\n",
    "origin[0] = [5]  #[0, 0]\n",
    "print()\n",
    "print(f'{origin = }')\n",
    "print(f'{shallow_copy = }')\n",
    "print(f'{(origin is shallow_copy ) = }')\n",
    "print(f'{(origin[0] is shallow_copy[0] ) = }')\n",
    "# print(f'{(origin[0][0] is shallow_copy[0][0] ) = }')"
   ]
  },
  {
   "cell_type": "code",
   "execution_count": 185,
   "metadata": {},
   "outputs": [
    {
     "data": {
      "text/plain": [
       "[1]"
      ]
     },
     "execution_count": 185,
     "metadata": {},
     "output_type": "execute_result"
    },
    {
     "name": "stdout",
     "output_type": "stream",
     "text": [
      "origin = [[[1]]]\n",
      "shallow_copy = [[[1]]]\n",
      "(origin is shallow_copy ) = False\n",
      "(origin[0] is shallow_copy[0] ) = True\n",
      "(origin[0][0] is shallow_copy[0][0] ) = True\n",
      "\n",
      "origin = [[[0]]]\n",
      "shallow_copy = [[[0]]]\n",
      "(origin is shallow_copy ) = False\n",
      "(origin[0] is shallow_copy[0] ) = True\n",
      "(origin[0][0] is shallow_copy[0][0] ) = True\n"
     ]
    }
   ],
   "source": [
    "import copy\n",
    "\n",
    "origin = [[[1]]]\n",
    "origin[0][0]\n",
    "shallow_copy = copy.copy(origin)    # shallow copy\n",
    "print(f'{origin = }')\n",
    "print(f'{shallow_copy = }')\n",
    "print(f'{(origin is shallow_copy ) = }')\n",
    "print(f'{(origin[0] is shallow_copy[0] ) = }')\n",
    "print(f'{(origin[0][0] is shallow_copy[0][0] ) = }')\n",
    "origin[0][0] = [0]\n",
    "print()\n",
    "print(f'{origin = }  {origin}')\n",
    "print(f'{shallow_copy = }')\n",
    "print(f'{(origin is shallow_copy ) = }')\n",
    "print(f'{(origin[0] is shallow_copy[0] ) = }')\n",
    "print(f'{(origin[0][0] is shallow_copy[0][0] ) = }')"
   ]
  },
  {
   "cell_type": "code",
   "execution_count": 175,
   "metadata": {},
   "outputs": [
    {
     "data": {
      "text/plain": [
       "140611018485888"
      ]
     },
     "execution_count": 175,
     "metadata": {},
     "output_type": "execute_result"
    },
    {
     "data": {
      "text/plain": [
       "140611359506640"
      ]
     },
     "execution_count": 175,
     "metadata": {},
     "output_type": "execute_result"
    },
    {
     "name": "stdout",
     "output_type": "stream",
     "text": [
      "\n"
     ]
    },
    {
     "data": {
      "text/plain": [
       "140611018485888"
      ]
     },
     "execution_count": 175,
     "metadata": {},
     "output_type": "execute_result"
    },
    {
     "data": {
      "text/plain": [
       "140611359506672"
      ]
     },
     "execution_count": 175,
     "metadata": {},
     "output_type": "execute_result"
    }
   ],
   "source": [
    "lst = [0]\n",
    "id(lst)\n",
    "id(lst[0])\n",
    "print()\n",
    "lst[0] = 1\n",
    "id(lst)\n",
    "id(lst[0])\n"
   ]
  }
 ],
 "metadata": {
  "kernelspec": {
   "display_name": "Python 3",
   "language": "python",
   "name": "python3"
  },
  "language_info": {
   "codemirror_mode": {
    "name": "ipython",
    "version": 3
   },
   "file_extension": ".py",
   "mimetype": "text/x-python",
   "name": "python",
   "nbconvert_exporter": "python",
   "pygments_lexer": "ipython3",
   "version": "3.10.6"
  },
  "orig_nbformat": 4,
  "vscode": {
   "interpreter": {
    "hash": "916dbcbb3f70747c44a77c7bcd40155683ae19c65e1c03b4aa3499c5328201f1"
   }
  }
 },
 "nbformat": 4,
 "nbformat_minor": 2
}
