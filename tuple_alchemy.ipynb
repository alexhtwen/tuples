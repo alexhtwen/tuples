{
 "cells": [
  {
   "attachments": {},
   "cell_type": "markdown",
   "metadata": {},
   "source": [
    "<!-- <header>\n",
    "<div style=\"font-family:Ubuntu Mono; font-size:108%; line-height:120%;  text-align: center;\">(Jupyter請用深色color theme)</div>\n",
    "<br>\n",
    "<div style=\"color:DarkOrange; font-family:Ubuntu Mono; font-size:600%; line-height:130%; font-weight: 800; text-align:center;\">TupleAlchemy</div> -->\n",
    "<br><br><br><br>\n",
    "<div style=\"font-family: 'Gen Jyuu Gothic Monospace Medium', 'Noto Sans TC'; font-size: 150%; line-height: 135%; text-align: center; color: GreenYellow;\">\n",
    "\n",
    "# TupleAlchemy(tuple煉金術)\n",
    "</div>\n",
    "<br><br>\n",
    "<div style=\"font-family: 'Gen Jyuu Gothic Monospace Medium', 'Noto Sans TC'; font-size: 135%; line-height: 135%; text-align: center; color: LightPink;\">\n",
    "\n",
    "## 兼談shallow copy和deep copy\n",
    "</div>\n",
    "\n",
    "<!-- <br>\n",
    "<div style=\"color:LightPink; font-family:Ubuntu Mono; font-size:350%; line-height:100%; font-weight:800; text-align:center;\">tuple煉金術</div>\n",
    "</header>\n",
    "<br><br><br><br><br><br> -->\n",
    "<!-- \n",
    "</div> -->\n",
    "<!-- <header><font size='+4'>\n",
    "<br><br><br></font>\n",
    "</header> -->"
   ]
  },
  {
   "cell_type": "code",
   "execution_count": 8,
   "metadata": {},
   "outputs": [
    {
     "data": {
      "text/plain": [
       "'interactiveShell imported.'"
      ]
     },
     "execution_count": 8,
     "metadata": {},
     "output_type": "execute_result"
    },
    {
     "data": {
      "text/plain": [
       "'now: 22:15:23'"
      ]
     },
     "execution_count": 8,
     "metadata": {},
     "output_type": "execute_result"
    }
   ],
   "source": [
    "import time\n",
    "\n",
    "from IPython.core.interactiveshell import InteractiveShell \n",
    "InteractiveShell.ast_node_interactivity = \"all\"\n",
    "\n",
    "'interactiveShell imported.'\n",
    "f\"now: {time.strftime('%H:%M:%S', time.localtime())}\""
   ]
  },
  {
   "attachments": {},
   "cell_type": "markdown",
   "metadata": {},
   "source": [
    "<div style=\"font-family:Inconsolata; font-size:500%;\">\n",
    "<header>\n",
    "<div style=\"text-align:center\"><img src=\"https://i.imgur.com/wlPZq7L.jpg\" width=\"500\"/></div>"
   ]
  },
  {
   "attachments": {},
   "cell_type": "markdown",
   "metadata": {},
   "source": [
    "<div style=\"font-family:Inconsolata; font-size:120%;\">\n",
    "\n",
    "## <font color='SteelBlue'><b>Python ABC: Tuples are immutable</b></font>\n",
    "\n",
    "* Python第一堂課：tuple是`immutable`(不可變)的。\n",
    "* 老師教了，同學聽了。但是，有沒有深究一下「不可變」的真義呢？\n",
    "* Q: `immutable`究竟是甚麼意思？tuple的「甚麼」不可變？\n",
    "* A:\n",
    "    * 不可變的是tuple內元素的「個數」、「次序」和其「內容」。tuple的元素一旦設定了初值，其後就不可更改。這就是Python的tuple(及其他`immutable`型別)物件「不可變」的具體意義。\n",
    "    * 範例如下：\n"
   ]
  },
  {
   "cell_type": "code",
   "execution_count": null,
   "metadata": {},
   "outputs": [],
   "source": [
    "# 先用list對比測試：\n",
    "len_prompt = 12\n",
    "my_list = [1, 'Alex', True, None]\n",
    "print(f'{\"Original:\":{len_prompt}}{my_list = }')\n",
    "my_list.append(3.1416)\n",
    "print(f'{\"Insertion:\":{len_prompt}}{my_list = }')\n",
    "my_list[1] = 'Wallace'\n",
    "print(f'{\"Assignment:\":{len_prompt}}{my_list = }')\n",
    "del my_list[0]\n",
    "print(f'{\"Deletion:\":{len_prompt}}{my_list = }')\n",
    "_ = my_list.pop(1)\n",
    "print(f'{\"Popping:\":{len_prompt}}{my_list = }')"
   ]
  },
  {
   "cell_type": "code",
   "execution_count": null,
   "metadata": {},
   "outputs": [],
   "source": [
    "# 再用tuple：\n",
    "my_tuple = (1, 'Alex', True, None)\n",
    "print(f'{\"Original:\":{len_prompt}}{my_tuple = }')\n",
    "# my_tuple.append(3.1416)\n",
    "# print(f'{\"Insertion:\":{len_prompt}}{my_tuple = }')\n",
    "\n",
    "my_tuple[1] = 'Wallace'\n",
    "print(f'{\"Assignment:\":{len_prompt}}{my_tuple = }')\n",
    "\n",
    "del my_tuple[0]\n",
    "print(f'{\"Deletion:\":{len_prompt}}{my_tuple = }')\n",
    "\n",
    "my_tuple.pop(1)\n",
    "print(f'{\"Popping:\":{len_prompt}}{my_tuple = }')"
   ]
  },
  {
   "attachments": {},
   "cell_type": "markdown",
   "metadata": {},
   "source": [
    "<div style=\"font-family:Inconsolata; font-size:120%;\">\n",
    "\n",
    "## <font color='SteelBlue'><b>以上證明tuple元素的「不可變」</b></font>\n",
    "</div>\n"
   ]
  },
  {
   "attachments": {},
   "cell_type": "markdown",
   "metadata": {},
   "source": [
    "<div style=\"text-align:center\"><img src=\"https://i.imgur.com/kj4ZyMb.jpg\" width=\"1200\"/></div>"
   ]
  },
  {
   "attachments": {},
   "cell_type": "markdown",
   "metadata": {},
   "source": [
    "<div style=\"font-family:Inconsolata; font-size:120%;\">\n",
    "\n",
    "## <font color='SteelBlue'><b>半個題外話：tuple本身卻「可變」...</b></font>\n",
    "\n",
    "* 不過這裡的所謂「可變」，其實是以賦值運算子來新創另一個同名的tuple，並非真的更改原來那個tuple。\n",
    "* 範例：\n",
    "</div>\n"
   ]
  },
  {
   "cell_type": "code",
   "execution_count": null,
   "metadata": {},
   "outputs": [],
   "source": [
    "len_prompt = 8\n",
    "my_tuple = (1, 'Alex', True, None)\n",
    "bak_tuple = my_tuple\n",
    "print(f'{\"Before:\":{len_prompt}}{id(my_tuple) = }\\t {my_tuple = }')\n",
    "my_tuple = (False, 18, 'Mirror', 162)\n",
    "print(f'{\"After:\":{len_prompt}}{id(my_tuple) = }\\t {my_tuple = }')\n",
    "print(f'{\"Backup:\":{len_prompt}}{id(bak_tuple)= }\\t {bak_tuple = }')"
   ]
  },
  {
   "attachments": {},
   "cell_type": "markdown",
   "metadata": {},
   "source": [
    "<div style=\"text-align:center\"><img src=\"https://i.imgur.com/zbynGaW.jpg\" width=\"500\"/></div>\n",
    "\n"
   ]
  },
  {
   "attachments": {},
   "cell_type": "markdown",
   "metadata": {},
   "source": [
    "<div style=\"font-family:Inconsolata; font-size:120%;\">\n",
    "    \n",
    "## <font color='SteelBlue'><b>再說元素的「不可變」</b></font>\n",
    "\n",
    "* 上面我講tuple的不可變的意義：\n",
    "    > <div style=\"font-family:Inconsolata; font-size:80%; color:LightSlateGrey;\">不可變的是tuple內元素的「個數」、「次序」和其「內容」。tuple一旦建立之後，它的元素就不可更改。</div>\n",
    "* 其實以上定義仍不夠精準。\n",
    "* 在下認為更精確的講法應該是：tuple內的元素設定初值後，元素的「個數」、「次序」和其<span style=\"color:Gold; font-size:135%; font-weight: 800;\">id</span>即不可更改。至於元素的「內容」，且聽在下慢慢道來：\n",
    "</div>"
   ]
  },
  {
   "attachments": {},
   "cell_type": "markdown",
   "metadata": {},
   "source": [
    "<div style=\"font-family:Inconsolata; font-size:120%;\">\n",
    "\n",
    "## <font color='SteelBlue'><b>Tuple的元素可否「煉鐵成金」？</b></font>\n",
    "* 懷疑是進步之母。我們要不要懷疑一下：tuple內的元素，就真的不能改變嗎？\n",
    "* 以下我們回到古老的歐洲，來個tupleAlchemy--tuple煉金術，看能不能將tuple中原本的破銅爛鐵元素煉成珍貴的黃金。\n",
    "</div>"
   ]
  },
  {
   "attachments": {},
   "cell_type": "markdown",
   "metadata": {},
   "source": [
    "<div style=\"text-align:center\"><img src=\"https://i.imgur.com/2cJizVc.png\" width=\"500\"/></div>"
   ]
  },
  {
   "attachments": {},
   "cell_type": "markdown",
   "metadata": {},
   "source": [
    "<div style=\"font-family:Inconsolata; font-size:120%;\">\n",
    "\n",
    "## <font color='SteelBlue' face='Inconsolata'><b>Furnace(煉金爐)</b></font>\n",
    "\n",
    "* [Pronunciation of `'furnace'`](https://www.youtube.com/watch?v=dLEV8eW_Rh8)\n",
    "</div>"
   ]
  },
  {
   "attachments": {},
   "cell_type": "markdown",
   "metadata": {},
   "source": [
    "<div style=\"text-align:center\"><img src=\"https://i.imgur.com/rdoyGwp.jpg\" width=\"600\"/></div>"
   ]
  },
  {
   "attachments": {},
   "cell_type": "markdown",
   "metadata": {},
   "source": [
    "<div style=\"text-align:center\"><img src=\"https://i.imgur.com/nwp50k0.jpg\" width=\"600\"/></div>"
   ]
  },
  {
   "attachments": {},
   "cell_type": "markdown",
   "metadata": {},
   "source": [
    "<div style=\"font-family:Inconsolata; font-size:120%;\">\n",
    "\n",
    "## <font color='SteelBlue'><b>開爐...</b></font>\n",
    "\n",
    "* 如果tuple內的元素不是整數、字串等，而是list, dict，情形會如何？\n",
    "* 觀察一下囉...\n",
    "</div>"
   ]
  },
  {
   "cell_type": "code",
   "execution_count": null,
   "metadata": {},
   "outputs": [],
   "source": [
    "def show_alchemy_result(metal: str) -> None:\n",
    "    if metal == '金':\n",
    "        print('銅鐵煉成金銀，Alchemy is real!')\n",
    "    else:\n",
    "        print('煉金不成，Alchemy is infeasible!')"
   ]
  },
  {
   "cell_type": "code",
   "execution_count": null,
   "metadata": {},
   "outputs": [],
   "source": [
    "metals = ['鉛', ['鐵', ['錫', {'material': '銅'}]]]\n",
    "print(id(metals))\n",
    "furnace = ('⟅', metals, '⟆')   # 煉金爐原本裝了些鉛、鐵等金屬。\n",
    "print(f\"{metals = }\")\n",
    "print(f'煉金前: {furnace = }\\n')"
   ]
  },
  {
   "cell_type": "code",
   "execution_count": null,
   "metadata": {},
   "outputs": [],
   "source": [
    "# 以賦值運算子賦與爐內金屬新值。\n",
    "metals = ['金', ['銀', ['鉑', {'material': '鈀'}]]]\n",
    "print(id(metals))\n",
    "print(f\"{metals = }\")\n",
    "print(f'煉金後: {furnace = }\\n')\n",
    "print(id(metals))\n",
    "\n",
    "show_alchemy_result(furnace[1][0])"
   ]
  },
  {
   "attachments": {},
   "cell_type": "markdown",
   "metadata": {},
   "source": [
    "<div style=\"text-align:center\"><img src=\"https://i.imgur.com/xpTm3QE.png\" width=\"600\"/></div>"
   ]
  },
  {
   "attachments": {},
   "cell_type": "markdown",
   "metadata": {},
   "source": [
    "<div style=\"font-family:Inconsolata; font-size:120%;\">\n",
    "\n",
    "## <font color='SteelBlue'><b>換個方式再煉</b></font>\n",
    "</div>"
   ]
  },
  {
   "cell_type": "code",
   "execution_count": null,
   "metadata": {},
   "outputs": [],
   "source": [
    "import sys\n",
    "\n",
    "lead = sys.intern('鉛')\n",
    "iron = sys.intern('鐵')\n",
    "tin = sys.intern('錫')\n",
    "copper = sys.intern('銅')\n",
    "\n",
    "metals = [lead, [iron, [tin, {'material': copper}]]]\n",
    "furnace = ('⟅', metals, '⟆')\n",
    "# 盡量使用f-string, 不再使用str.format()。\n",
    "# print(f'{id(metals) = }')\n",
    "# print(f\"{metals = }\")\n",
    "# print(f'煉金前: {furnace = }\\n')\n",
    "print()\n",
    "print(f'000: {id(metals[0]) = }    {metals[0] = }')\n",
    "metals[0] = lead\n",
    "print(f'111: {id(metals[0]) = }    {metals[0] = }')\n",
    "# print(f\"{metals = }    # metals[0] = '金'\")\n",
    "# print(f'煉金-1: {furnace = }\\n')\n",
    "print()\n",
    "print(f'000: {id(metals[1][0]) = }    {metals[1][0] = }')\n",
    "metals[1][0] = iron\n",
    "\n",
    "print(f'222: {id(metals[1][0]) = }    {metals[1][0] = }')\n",
    "# print(f\"{metals = }    # metals[1][0] = '銀'\")\n",
    "# print(f'煉金-2: {furnace = }\\n')\n",
    "\n",
    "metals[1][1][0] = '鉑'\n",
    "# print(f\"{metals = }    # metals[1][1][0] = '鉑'\")\n",
    "# print(f'煉金-3: {furnace = }\\n')\n",
    "\n",
    "metals[1][1][1]['material'] = '鈀'\n",
    "# print(f\"{metals = }    # metals[1][1][1]['material'] = '鈀'\")\n",
    "# print(f'煉金-4: {furnace = }\\n')\n",
    "\n",
    "# show_alchemy_result(furnace[1][0])\n",
    "# print(f'{id(metals) = }\\t{id(furnace) = }')\n",
    "print()\n",
    "# print(f'{id(metals) = }')"
   ]
  },
  {
   "cell_type": "code",
   "execution_count": null,
   "metadata": {},
   "outputs": [],
   "source": [
    "import sys\n",
    "lead = sys.intern('鉛')\n",
    "\n",
    "l = [lead]\n",
    "id(l[0])\n",
    "l[0] = lead\n",
    "id(l[0])"
   ]
  },
  {
   "cell_type": "code",
   "execution_count": null,
   "metadata": {},
   "outputs": [],
   "source": [
    "l = ['Alex']\n",
    "id(l[0])\n",
    "l[0] = 'Alex'\n",
    "id(l[0])"
   ]
  },
  {
   "cell_type": "code",
   "execution_count": 147,
   "metadata": {},
   "outputs": [
    {
     "name": "stdout",
     "output_type": "stream",
     "text": [
      "sys.getsizeof(short) = 49\n",
      "sys.getsizeof(long) = 51\n"
     ]
    }
   ],
   "source": [
    "import sys\n",
    "\n",
    "short = ''\n",
    "# long = 'qft中文dxrderd54rdxrtfr5tdf6rtv r56r 56r字串。6r65r56fd6 6tf56dtrcc6c6rttc6c6trytr65crtyuyugyg7ytfg67t'\n",
    "long = 'pq'\n",
    "l1 = [short]; l2 = [long]  # 占用的記憶體空間較大\n",
    "t1 = (short, ); t2 = (long, )  # 占用的記憶體空間較小\n",
    "\n",
    "print(f'{sys.getsizeof(short) = }')\n",
    "print(f'{sys.getsizeof(long) = }')\n",
    "# print()\n",
    "# print(f'{sys.getsizeof(l2) = }')\n",
    "# print(f'{sys.getsizeof(t2) = }')\n",
    "# print(f'{id(l)}\\t{id(t)}')"
   ]
  },
  {
   "attachments": {},
   "cell_type": "markdown",
   "metadata": {},
   "source": [
    "<div style=\"text-align:center\"><img src=\"https://i.imgur.com/GAnFyZY.jpg\" width=\"500\"/></div>\n",
    "</div>"
   ]
  },
  {
   "attachments": {},
   "cell_type": "markdown",
   "metadata": {},
   "source": [
    "<div style=\"font-family:Inconsolata; font-size:120%;\">\n",
    "\n",
    "## <font color='SteelBlue'><b>這次煉成功了！</b></font>\n",
    "\n",
    "* 所以，tuple的元素並非完全不可變的。\n",
    "* 上面為甚麼可以煉成金？\n",
    "* 答案是：\n",
    "    * 在以上的code中，改變的是元素中的元素的內容。\n",
    "    * 而tuple元素(第一層元素)的id()值並沒有改變。\n",
    "    * 所以並沒有違返之前在下所說的定義：\n",
    "        > <div style=\"font-family:Inconsolata; font-size:80%; color:LightSlateGrey;\">tuple一旦建立後，元素的「個數」、「次序」和其<span style=\"color:Gold; font-size:135%; font-weight: 800;\">id</span>即不可更改。</div>\n",
    "* (請用id()觀察...)\n",
    "</div>"
   ]
  },
  {
   "attachments": {},
   "cell_type": "markdown",
   "metadata": {},
   "source": [
    "<div style=\"text-align:center\"><img src=\"https://i.imgur.com/N4pTT2U.jpg\" width=\"500\"/></div>\n"
   ]
  },
  {
   "attachments": {},
   "cell_type": "markdown",
   "metadata": {},
   "source": [
    "<div style=\"font-family:Inconsolata; font-size:120%;\">\n",
    "\n",
    "## <font color='SteelBlue'><b>如果複製了metals再去煉金...</b></font>\n"
   ]
  },
  {
   "attachments": {},
   "cell_type": "markdown",
   "metadata": {},
   "source": [
    "<div style=\"font-family:Inconsolata; font-size:120%;\">\n",
    "\n",
    "* 以下我們分別用下列三種方式來「複製」metals，觀察複製後的煉金成果：\n",
    "    1. 以賦值運算子(`'='`)賦值給new_metals。\n",
    "    2. Shallow copy(淺層複製)給new_metals。\n",
    "    3. Deep copy(深層複製)給new_metals。\n"
   ]
  },
  {
   "attachments": {},
   "cell_type": "markdown",
   "metadata": {},
   "source": [
    "<div style=\"font-family:Inconsolata; font-size:120%;\">\n",
    "\n",
    "### <font color='DarkSalmon'><b>直接賦值('=')</b></font>\n",
    "\n",
    "* 直接以`'='`賦值效果是新舊兩個metals的id()相同，屬同一物件，只是名稱不同。這種方式完全不算copy。\n",
    "* 別忘了，metals的型別是list。\n",
    "* 由於此兩lists實際上二而一，所以修改其中一個list的元素，另一list相對應元素也隨之更改。\n",
    "</div>"
   ]
  },
  {
   "cell_type": "code",
   "execution_count": 4,
   "metadata": {},
   "outputs": [
    {
     "name": "stdout",
     "output_type": "stream",
     "text": [
      "new_metals = old_metals   # 直接賦值\n",
      "--------------------------\n",
      "煉金前: furnace = ('⟅', ['鉛', ['鐵', ['錫', {'material': '銅'}]]], '⟆')\n",
      "id(old_metals) = 140607357449024\n",
      "id(new_metals) = 140607357449024\n",
      "( id(old_metals) == id(new_metals) ) = True\n",
      "\n",
      "煉金-1: furnace = ('⟅', ['金', ['鐵', ['錫', {'material': '銅'}]]], '⟆')\n",
      "煉金-2: furnace = ('⟅', ['金', ['銀', ['錫', {'material': '銅'}]]], '⟆')\n",
      "煉金-3: furnace = ('⟅', ['金', ['銀', ['鉑', {'material': '銅'}]]], '⟆')\n",
      "煉金-4: furnace = ('⟅', ['金', ['銀', ['鉑', {'material': '鈀'}]]], '⟆')\n",
      "\n",
      "煉金成功。\n"
     ]
    }
   ],
   "source": [
    "old_metals = ['鉛', ['鐵', ['錫', {'material': '銅'}]]]\n",
    "furnace = ('⟅', old_metals, '⟆')\n",
    "print(f'new_metals = old_metals   # 直接賦值\\n{\"-\"*26}')\n",
    "new_metals = old_metals  # 直接賦值\n",
    "print(f'煉金前: {furnace = }')\n",
    "print(f'{id(old_metals) = }\\n{id(new_metals) = }')\n",
    "print(f'{( id(old_metals) == id(new_metals) ) = }\\n')\n",
    "\n",
    "new_metals[0] = '金'    # 改new_metals連old_metals也跟著改。\n",
    "print(f'煉金-1: {furnace = }')\n",
    "\n",
    "new_metals[1][0] = '銀'\n",
    "print(f'煉金-2: {furnace = }')\n",
    "\n",
    "new_metals[1][1][0] = '鉑'\n",
    "print(f'煉金-3: {furnace = }')\n",
    "\n",
    "new_metals[1][1][1]['material'] = '鈀'\n",
    "print(f'煉金-4: {furnace = }\\n')\n",
    "\n",
    "print(f'煉金成功。')"
   ]
  },
  {
   "attachments": {},
   "cell_type": "markdown",
   "metadata": {},
   "source": [
    "<div style=\"font-family:Inconsolata; font-size:120%;\">\n",
    "\n",
    "#### <font color='SkyBlue'><b>直接賦值為何煉金成功？</b></font>\n",
    "\n",
    "* 原因再說一次：因為old_metals和new_metals兩個lists位址相同。修改其中一個的某個元素，等於同時修改另一個的對應元素。\n",
    "* 再提醒一次：直接賦值既非深層亦非淺層複製。根本不是複製。\n",
    " "
   ]
  },
  {
   "attachments": {},
   "cell_type": "markdown",
   "metadata": {},
   "source": [
    "<div style=\"text-align:center\"><img src=\"https://i.imgur.com/wYbXqTu.jpg\" width=\"500\"/></div>"
   ]
  },
  {
   "attachments": {},
   "cell_type": "markdown",
   "metadata": {},
   "source": [
    "<div style=\"font-family:Inconsolata; font-size:120%;\">\n",
    "\n",
    "### <font color='DarkSalmon'><b>Shallow Copy</b></font>\n",
    "* Shallow copy是利用copy模組的copy()方法達成。\n",
    "* Shallow copy的效果是：\n",
    "    * 原物件如為mutable，會給予新物件另一reference(位址)，所以新舊物件的id()並不相同。但新物件內的所有元素(含元素內的元素...)皆沿用原物件的references。\n",
    "    * 原物件如為immutable，則新物件reference和原物件相同。結果就相當於直接賦值。\n",
    "    * [詳細說明請看拙文。](https://hackmd.io/@alexhtwen/SyL7bhkhX#shallow_deep_copy)\n",
    "* 範例：\n",
    "</div>"
   ]
  },
  {
   "cell_type": "code",
   "execution_count": 23,
   "metadata": {},
   "outputs": [
    {
     "name": "stdout",
     "output_type": "stream",
     "text": [
      "\n",
      "--- Shallow Copy ---\n",
      "id(old_list) = 140606933165760\t   id(old_tuple) = 140607357443008\n",
      "id(new_list) = 140607357728896\t   id(new_tuple) = 140607357443008\n",
      "( id(old_list) == id(new_list) ) = False\n",
      "( id(old_tuple) == id(new_tuple) ) = True\n",
      "id(old_list[1]) = 140607358625024\tid(old_tuple[1]) = 140606933166528\n",
      "id(new_list[1]) = 140607358625024\tid(new_tuple[1]) = 140606933166528\n",
      "\n",
      "--- Assignment ---\n",
      "id(old_tuple) = 140607357443008\n",
      "id(new_tuple) = 140607357443008\n",
      "( id(old_tuple) == id(new_tuple) ) = True\n",
      "\n"
     ]
    }
   ],
   "source": [
    "import copy\n",
    "\n",
    "old_list = [1, [2, (3,)]]\n",
    "old_tuple = (1, [2, (3,)])\n",
    "new_list = copy.copy(old_list)     # copy.copy()是shallow copy。\n",
    "new_tuple = copy.copy(old_tuple)\n",
    "\n",
    "print()\n",
    "print('--- Shallow Copy ---')\n",
    "print(f'{id(old_list) = }\\t   {id(old_tuple) = }')\n",
    "print(f'{id(new_list) = }\\t   {id(new_tuple) = }')\n",
    "print(f'{( id(old_list) == id(new_list) ) = }')\n",
    "print(f'{( id(old_tuple) == id(new_tuple) ) = }')\n",
    "\n",
    "print(f'{id(old_list[1]) = }\\t{id(old_tuple[1]) = }')  # \n",
    "print(f'{id(new_list[1]) = }\\t{id(new_tuple[1]) = }')\n",
    "\n",
    "print()\n",
    "new_tuple = old_tuple\n",
    "print('--- Assignment ---')\n",
    "print(f'{id(old_tuple) = }\\n{id(new_tuple) = }')\n",
    "print(f'{( id(old_tuple) == id(new_tuple) ) = }')\n",
    "print()"
   ]
  },
  {
   "cell_type": "code",
   "execution_count": 21,
   "metadata": {},
   "outputs": [
    {
     "name": "stdout",
     "output_type": "stream",
     "text": [
      "shallow copy\n",
      "------------\n",
      "煉金前: furnace = ('⟅', ['鉛', ['鐵', ['錫', {'material': '銅'}]]], '⟆')\n",
      "\n",
      "id(old_metals) == id(new_metals) = False\n",
      "id(old_metals[0]) == id(new_metals[0]) = True\n",
      "id(old_metals[1]) == id(new_metals[1]) = True\n",
      "id(old_metals[1][0]) == id(new_metals[1][0]) = True\n",
      "id(old_metals[1][1][0]) == id(new_metals[1][1][0]) = True\n",
      "id(old_metals[1][1][1]['material']) == id(new_metals[1][1][1]['material']) = True\n",
      "\n",
      "id(old_metals[0]) = 140607357598928\n",
      "id(new_metals[0]) = 140606931432224\n",
      "id(old_metals[0]) == id(new_metals[0]) = False\n",
      "煉金-1: furnace = ('⟅', ['鉛', ['鐵', ['錫', {'material': '銅'}]]], '⟆')\n",
      "煉金-2: furnace = ('⟅', ['鉛', ['銀', ['錫', {'material': '銅'}]]], '⟆')\n",
      "煉金-3: furnace = ('⟅', ['鉛', ['銀', ['鉑', {'material': '銅'}]]], '⟆')\n",
      "煉金-4: furnace = ('⟅', ['鉛', ['銀', ['鉑', {'material': '鈀'}]]], '⟆')\n",
      "\n",
      "\n"
     ]
    }
   ],
   "source": [
    "import copy\n",
    "\n",
    "old_metals = ['鉛', ['鐵', ['錫', {'material': '銅'}]]]\n",
    "furnace = ('⟅', old_metals, '⟆')\n",
    "print(f'shallow copy\\n{\"-\"*12}')\n",
    "# print(f'{id(old_metals[0]) = }')\n",
    "new_metals = copy.copy(old_metals)  # shallow copy\n",
    "print(f'煉金前: {furnace = }\\n')\n",
    "\n",
    "print(f'{id(old_metals) == id(new_metals) = }')   # False\n",
    "print(f'{id(old_metals[0]) == id(new_metals[0]) = }')   # True\n",
    "print(f'{id(old_metals[1]) == id(new_metals[1]) = }')   # True\n",
    "print(f'{id(old_metals[1][0]) == id(new_metals[1][0]) = }')   # True\n",
    "print(f\"{id(old_metals[1][1][0]) == id(new_metals[1][1][0]) = }\")   # True\n",
    "print(f\"{id(old_metals[1][1][1]['material']) == id(new_metals[1][1][1]['material']) = }\")   # True\n",
    "\n",
    "print()\n",
    "new_metals[0] = '金'  \n",
    "print(f'{id(old_metals[0]) = }')\n",
    "print(f'{id(new_metals[0]) = }')\n",
    "print(f'{id(old_metals[0]) == id(new_metals[0]) = }')   # True\n",
    "print(f'煉金-1: {furnace = }')\n",
    "\n",
    "new_metals[1][0] = '銀'\n",
    "print(f'煉金-2: {furnace = }')\n",
    "\n",
    "new_metals[1][1][0] = '鉑'\n",
    "print(f'煉金-3: {furnace = }')\n",
    "\n",
    "new_metals[1][1][1]['material'] = '鈀'\n",
    "print(f'煉金-4: {furnace = }\\n')\n",
    "print()"
   ]
  },
  {
   "attachments": {},
   "cell_type": "markdown",
   "metadata": {},
   "source": [
    "<div style=\"font-family:Inconsolata; font-size:120%;\">\n",
    "\n",
    "#### <font color='SkyBlue'><b>為何Shallow Copy有些金屬煉得成，有些卻煉不成？</b></font>\n",
    "\n",
    "* 別忘了，shallow copy淺層複製下，容器型物件(如list)內的元素，及其子元素子子元素...，是僅複製其references，不複製內容。\n",
    "* old_metals是個list，有2個元素，old_metals[0]型別是str，old_metals[1]則是個list。淺層複製後，new_metals[0]的id()和old_metals[0]相同\n",
    "如上所述，此2個元素以'鉛'不會煉成金，是因為'鉛'是old_metals....\n",
    "\n",
    "new new new"
   ]
  },
  {
   "cell_type": "code",
   "execution_count": 18,
   "metadata": {},
   "outputs": [
    {
     "name": "stdout",
     "output_type": "stream",
     "text": [
      "id(metals_old[0]) = 139908830069040\n",
      "id(metals_new[0]) = 139908830069040\n",
      "id(metals_old[0]) == id(metals_new[0]) = True\n",
      "metals_old[0] = 4\n",
      "metals_new[0] =3\n"
     ]
    }
   ],
   "source": [
    "import copy, sys\n",
    "\n",
    "# lead = sys.intern('鉛')\n",
    "# gold = sys.intern('金')\n",
    "\n",
    "old_metals = [3]  #, ['鐵', ['錫', {'material': '銅'}]]]\n",
    "new_metals = copy.copy(old_metals)  # shallow copy\n",
    "\n",
    "# print(f'{id(old_metals) == id(new_metals) = }')\n",
    "print(f'{id(old_metals[0]) = }\\n{id(new_metals[0]) = }')\n",
    "print(f'{id(old_metals[0]) == id(new_metals[0]) = }')\n",
    "# print(f'{id(old_metals[1]) == id(new_metals[1]) = }')\n",
    "# print(f'{id(old_metals[1][0]) == id(new_metals[1][0]) = }')\n",
    "# print(f\"{id(old_metals[1][1][0]) == id(new_metals[1][1][0]) = }\")\n",
    "# print(f\"{id(old_metals[1][1][1]['material']) == id(new_metals[1][1][1]['material']) = }\")\n",
    "\n",
    "\n",
    "old_metals[0] = 4  # '金'\n",
    "print(f'{old_metals[0] = }')\n",
    "print(f'{new_metals[0] = }')\n",
    "\n"
   ]
  },
  {
   "cell_type": "code",
   "execution_count": 59,
   "metadata": {},
   "outputs": [
    {
     "name": "stdout",
     "output_type": "stream",
     "text": [
      "new = copy.copy(old):  old = [5, [9]]\tnew = [5, [9]]\n",
      "id(old) = 139908630195776   id(old[0]) = 139908830069104   id(old[1][0]) = 139908830069232\n",
      "id(new) = 139908634306560   id(new[0]) = 139908830069104   id(new[1][0]) = 139908830069232\n",
      "\n",
      "new[0] = 8:  old = [5, [9]]\t\tnew = [8, [9]]\n",
      "id(old) = 139908630195776   id(old[0]) = 139908830069104   id(old[1][0]) = 139908830069232\n",
      "id(new) = 139908634306560   id(new[0]) = 139908830069200   id(new[1][0]) = 139908830069232\n",
      "\n",
      "new[1][0] = 6:  old = [5, [6]]\t\tnew = [8, [6]]\n",
      "id(old) = 139908630195776   id(old[0]) = 139908830069104   id(old[1][0]) = 139908830069136\n",
      "id(new) = 139908634306560   id(new[0]) = 139908830069200   id(new[1][0]) = 139908830069136\n",
      "id(old[1]) = 139908631817536\n",
      "id(new[1]) = 139908631817536\n",
      "id(old) = 139908630195776   id(old[0]) = 139908830069104   old[1][0] = 6\n",
      "id(new) = 139908634306560   id(new[0]) = 139908830069200   new[1][0] = 6\n"
     ]
    }
   ],
   "source": [
    "import copy\n",
    "old = [5, [9]]\n",
    "new = copy.copy(old)\n",
    "# print(f'{id(old) = }\\t{id(new) = }')\n",
    "print(f'new = copy.copy(old):  {old = }\\t{new = }')\n",
    "print(f'{id(old) = :<18}{id(old[0]) = :<18}{id(old[1][0]) = }')\n",
    "print(f'{id(new) = :<18}{id(new[0]) = :<18}{id(new[1][0]) = }')\n",
    "new[0] = 8\n",
    "print()\n",
    "print(f'new[0] = 8:  {old = }\\t\\t{new = }')\n",
    "print(f'{id(old) = :<18}{id(old[0]) = :<18}{id(old[1][0]) = }')\n",
    "print(f'{id(new) = :<18}{id(new[0]) = :<18}{id(new[1][0]) = }')\n",
    "\n",
    "new[1][0] = 6\n",
    "print()\n",
    "print(f'new[1][0] = 6:  {old = }\\t\\t{new = }')\n",
    "print(f'{id(old) = :<18}{id(old[0]) = :<18}{id(old[1][0]) = }')\n",
    "print(f'{id(new) = :<18}{id(new[0]) = :<18}{id(new[1][0]) = }')\n",
    "print(f'{id(old[1]) = }')\n",
    "print(f'{id(new[1]) = }')\n",
    "print(f'{id(old) = :<18}{id(old[0]) = :<18}{old[1][0] = }')\n",
    "print(f'{id(new) = :<18}{id(new[0]) = :<18}{new[1][0] = }')"
   ]
  },
  {
   "attachments": {},
   "cell_type": "markdown",
   "metadata": {},
   "source": [
    "<div style=\"text-align:center\"><img src=\"https://i.imgur.com/fmgIbF3.jpg\" width=\"500\"/></div>"
   ]
  },
  {
   "attachments": {},
   "cell_type": "markdown",
   "metadata": {},
   "source": [
    "<div style=\"font-family:Inconsolata; font-size:120%;\">\n",
    "\n",
    "## <font color='SteelBlue'><b>Shallow Copy vs Deep Copy-3</b></font>\n",
    "* deep copy: 複製另一個reference(可視為`id()`的值)和原物件不同的新物件，然後對原物件內的子物件逐一複製並<font color='Gold'><b>盡可能賦予新references</b></font>。子物件本身如果也有子子物件，會一層層遞迴(recursively)複製。\n",
    "* [詳細說明請看拙文。](https://hackmd.io/@alexhtwen/SyL7bhkhX#shallow_deep_copy)。"
   ]
  },
  {
   "cell_type": "code",
   "execution_count": 175,
   "metadata": {},
   "outputs": [
    {
     "name": "stdout",
     "output_type": "stream",
     "text": [
      "deep copy\n",
      "----------\n",
      "煉金前: furnace = ('⟅', ['鉛', ['鐵', ['錫', {'material': '銅'}]]], '⟆')\n",
      "\n",
      "煉金-1: furnace = ('⟅', ['鉛', ['鐵', ['錫', {'material': '銅'}]]], '⟆')\n",
      "煉金-2: furnace = ('⟅', ['鉛', ['鐵', ['錫', {'material': '銅'}]]], '⟆')\n",
      "煉金-3: furnace = ('⟅', ['鉛', ['鐵', ['錫', {'material': '銅'}]]], '⟆')\n",
      "煉金-4: furnace = ('⟅', ['鉛', ['鐵', ['錫', {'material': '銅'}]]], '⟆')\n",
      "\n",
      "煉金不成，Alchemy is infeasible!\n"
     ]
    }
   ],
   "source": [
    "import copy\n",
    "\n",
    "old_metals = ['鉛', ['鐵', ['錫', {'material': '銅'}]]]\n",
    "furnace = ('⟅', old_metals, '⟆')\n",
    "print(f'deep copy\\n{\"-\"*10}')\n",
    "new_metals = copy.deepcopy(old_metals)  # deep copy\n",
    "# print(f\"{new_metals      =       }\")\n",
    "print(f'煉金前: {furnace = }\\n')\n",
    "\n",
    "new_metals[0] = '金'\n",
    "# print(f\"{new_metals      =       }    # new_metals[0] = '金'\")\n",
    "print(f'煉金-1: {furnace = }')\n",
    "\n",
    "new_metals[1][0] = '銀'\n",
    "# print(f\"{new_metals      =       }    # new_metals[1][0] = '銀'\")\n",
    "print(f'煉金-2: {furnace = }')\n",
    "\n",
    "new_metals[1][1][0] = '鉑'\n",
    "# print(f\"{new_metals      =       }    # new_metals[1][1][0] = '鉑'\")\n",
    "print(f'煉金-3: {furnace = }')\n",
    "\n",
    "new_metals[1][1][1]['material'] = '鈀'\n",
    "# print(f\"{new_metals      =       }    # new_metals[1][1][1]['material'] = '鈀'\")\n",
    "print(f'煉金-4: {furnace = }')\n",
    "# print('煉金術不過是天橋把式，Alchemists are only magicians.')\n",
    "print()\n",
    "show_alchemy_result(furnace[1][0])"
   ]
  },
  {
   "cell_type": "code",
   "execution_count": 172,
   "metadata": {},
   "outputs": [
    {
     "name": "stdout",
     "output_type": "stream",
     "text": [
      "\n"
     ]
    },
    {
     "data": {
      "text/plain": [
       "139910642890688"
      ]
     },
     "execution_count": 172,
     "metadata": {},
     "output_type": "execute_result"
    },
    {
     "data": {
      "text/plain": [
       "139910642180864"
      ]
     },
     "execution_count": 172,
     "metadata": {},
     "output_type": "execute_result"
    },
    {
     "name": "stdout",
     "output_type": "stream",
     "text": [
      "\n"
     ]
    }
   ],
   "source": [
    "# ! mcs -unsafe show_ref.cs\n",
    "print()\n",
    "l = [1, 2, 3]\n",
    "id(l)\n",
    "l = [1, 2, 3]\n",
    "id(l)\n",
    "print()"
   ]
  }
 ],
 "metadata": {
  "kernelspec": {
   "display_name": "Python 3",
   "language": "python",
   "name": "python3"
  },
  "language_info": {
   "codemirror_mode": {
    "name": "ipython",
    "version": 3
   },
   "file_extension": ".py",
   "mimetype": "text/x-python",
   "name": "python",
   "nbconvert_exporter": "python",
   "pygments_lexer": "ipython3",
   "version": "3.10.6"
  },
  "orig_nbformat": 4,
  "vscode": {
   "interpreter": {
    "hash": "916dbcbb3f70747c44a77c7bcd40155683ae19c65e1c03b4aa3499c5328201f1"
   }
  }
 },
 "nbformat": 4,
 "nbformat_minor": 2
}
